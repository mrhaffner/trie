{
 "cells": [
  {
   "cell_type": "code",
   "execution_count": 64,
   "id": "cfd6875f",
   "metadata": {},
   "outputs": [],
   "source": [
    "SIZE_OF_ALPHABET = 26\n",
    "\n",
    "class TrieNode:\n",
    "    \n",
    "    def __init__(self):\n",
    "        self.edges = [None] * SIZE_OF_ALPHABET\n",
    "        self.is_leaf = True\n"
   ]
  },
  {
   "cell_type": "code",
   "execution_count": 81,
   "id": "d60c5228",
   "metadata": {},
   "outputs": [],
   "source": [
    "class Trie:\n",
    "    \n",
    "    def __init__(self):\n",
    "        self.root = TrieNode()\n",
    "        \n",
    "    \n",
    "    def _letter_to_index(self, letter):\n",
    "        return ord(letter.lower()) - ord('a')\n",
    "    \n",
    "    \n",
    "    def add(self, word):\n",
    "        node = self.root \n",
    "        for char in word:\n",
    "            idx = self._letter_to_index(char)\n",
    "            node.is_leaf = False\n",
    "            \n",
    "            if not node.edges[idx]:\n",
    "                node.edges[idx] = TrieNode()\n",
    "            \n",
    "            node = node.edges[idx]\n",
    "      \n",
    "    \n",
    "    def contains(self, word):\n",
    "        node = self.root\n",
    "        for char in word:\n",
    "            idx = self._letter_to_index(char)\n",
    "            node = node.edges[idx]\n",
    "            \n",
    "            if node is None:\n",
    "                return False\n",
    "            \n",
    "        if node.is_leaf:\n",
    "            return True\n",
    "        return False"
   ]
  },
  {
   "cell_type": "code",
   "execution_count": 82,
   "id": "9a4f7991",
   "metadata": {},
   "outputs": [
    {
     "data": {
      "text/plain": [
       "True"
      ]
     },
     "execution_count": 82,
     "metadata": {},
     "output_type": "execute_result"
    }
   ],
   "source": [
    "t = Trie()\n",
    "t.root.is_leaf"
   ]
  },
  {
   "cell_type": "code",
   "execution_count": 83,
   "id": "d82a98b2",
   "metadata": {},
   "outputs": [
    {
     "data": {
      "text/plain": [
       "False"
      ]
     },
     "execution_count": 83,
     "metadata": {},
     "output_type": "execute_result"
    }
   ],
   "source": [
    "t.add('aa')\n",
    "t.root.is_leaf"
   ]
  },
  {
   "cell_type": "code",
   "execution_count": 84,
   "id": "c98d9c81",
   "metadata": {},
   "outputs": [
    {
     "data": {
      "text/plain": [
       "[<__main__.TrieNode at 0x7fceb05807f0>,\n",
       " None,\n",
       " None,\n",
       " None,\n",
       " None,\n",
       " None,\n",
       " None,\n",
       " None,\n",
       " None,\n",
       " None,\n",
       " None,\n",
       " None,\n",
       " None,\n",
       " None,\n",
       " None,\n",
       " None,\n",
       " None,\n",
       " None,\n",
       " None,\n",
       " None,\n",
       " None,\n",
       " None,\n",
       " None,\n",
       " None,\n",
       " None,\n",
       " None]"
      ]
     },
     "execution_count": 84,
     "metadata": {},
     "output_type": "execute_result"
    }
   ],
   "source": [
    "t.root.edges"
   ]
  },
  {
   "cell_type": "code",
   "execution_count": 85,
   "id": "4cf3f78d",
   "metadata": {},
   "outputs": [
    {
     "data": {
      "text/plain": [
       "[<__main__.TrieNode at 0x7fceb0580c10>,\n",
       " None,\n",
       " None,\n",
       " None,\n",
       " None,\n",
       " None,\n",
       " None,\n",
       " None,\n",
       " None,\n",
       " None,\n",
       " None,\n",
       " None,\n",
       " None,\n",
       " None,\n",
       " None,\n",
       " None,\n",
       " None,\n",
       " None,\n",
       " None,\n",
       " None,\n",
       " None,\n",
       " None,\n",
       " None,\n",
       " None,\n",
       " None,\n",
       " None]"
      ]
     },
     "execution_count": 85,
     "metadata": {},
     "output_type": "execute_result"
    }
   ],
   "source": [
    "t.root.edges[0].edges"
   ]
  },
  {
   "cell_type": "code",
   "execution_count": 86,
   "id": "3db68209",
   "metadata": {},
   "outputs": [
    {
     "data": {
      "text/plain": [
       "[None,\n",
       " None,\n",
       " None,\n",
       " None,\n",
       " None,\n",
       " None,\n",
       " None,\n",
       " None,\n",
       " None,\n",
       " None,\n",
       " None,\n",
       " None,\n",
       " None,\n",
       " None,\n",
       " None,\n",
       " None,\n",
       " None,\n",
       " None,\n",
       " None,\n",
       " None,\n",
       " None,\n",
       " None,\n",
       " None,\n",
       " None,\n",
       " None,\n",
       " None]"
      ]
     },
     "execution_count": 86,
     "metadata": {},
     "output_type": "execute_result"
    }
   ],
   "source": [
    "t.root.edges[0].edges[0].edges"
   ]
  },
  {
   "cell_type": "code",
   "execution_count": 87,
   "id": "fe7fe648",
   "metadata": {},
   "outputs": [
    {
     "data": {
      "text/plain": [
       "True"
      ]
     },
     "execution_count": 87,
     "metadata": {},
     "output_type": "execute_result"
    }
   ],
   "source": [
    "t.contains('aa')"
   ]
  },
  {
   "cell_type": "code",
   "execution_count": 89,
   "id": "f217ad45",
   "metadata": {},
   "outputs": [
    {
     "data": {
      "text/plain": [
       "False"
      ]
     },
     "execution_count": 89,
     "metadata": {},
     "output_type": "execute_result"
    }
   ],
   "source": [
    "t.contains('a')"
   ]
  },
  {
   "cell_type": "code",
   "execution_count": 90,
   "id": "afcff062",
   "metadata": {},
   "outputs": [
    {
     "data": {
      "text/plain": [
       "False"
      ]
     },
     "execution_count": 90,
     "metadata": {},
     "output_type": "execute_result"
    }
   ],
   "source": [
    "t.contains('aaa')"
   ]
  },
  {
   "cell_type": "code",
   "execution_count": null,
   "id": "0661bdba",
   "metadata": {},
   "outputs": [],
   "source": []
  }
 ],
 "metadata": {
  "kernelspec": {
   "display_name": "Python 3",
   "language": "python",
   "name": "python3"
  },
  "language_info": {
   "codemirror_mode": {
    "name": "ipython",
    "version": 3
   },
   "file_extension": ".py",
   "mimetype": "text/x-python",
   "name": "python",
   "nbconvert_exporter": "python",
   "pygments_lexer": "ipython3",
   "version": "3.8.8"
  }
 },
 "nbformat": 4,
 "nbformat_minor": 5
}
